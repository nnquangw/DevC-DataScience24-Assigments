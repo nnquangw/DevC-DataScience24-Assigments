{
  "nbformat": 4,
  "nbformat_minor": 0,
  "metadata": {
    "colab": {
      "name": "DAwP_Assignment_2_NNQuang.ipynb",
      "provenance": [],
      "collapsed_sections": []
    },
    "language_info": {
      "codemirror_mode": {
        "name": "ipython",
        "version": 3
      },
      "file_extension": ".py",
      "mimetype": "text/x-python",
      "name": "python",
      "nbconvert_exporter": "python",
      "pygments_lexer": "ipython3",
      "version": "3.6.5"
    },
    "kernelspec": {
      "display_name": "Python 3",
      "language": "python",
      "name": "python3"
    }
  },
  "cells": [
    {
      "cell_type": "markdown",
      "metadata": {
        "id": "kL9VPYin9nOD",
        "colab_type": "text"
      },
      "source": [
        "![](https://i.imgur.com/0AUxkXt.png)\n",
        "\n",
        "# SF Salaries Exercise \n",
        "\n",
        "Explore San Francisco city employee salary data.\n",
        "\n",
        "## Overview\n",
        "\n",
        "One way to understand how a city government works is by looking at who it employs and how its employees are compensated. This data contains the names, job title, and compensation for San Francisco city employees on an annual basis from 2011 to 2014.\n",
        "\n",
        "\n",
        "\n",
        "Just follow along and complete the tasks outlined in bold below. The tasks will get harder and harder as you go along.\n",
        "\n",
        "## Resourses\n",
        "\n",
        "[Pandas API Reference](https://pandas.pydata.org/pandas-docs/stable/api.html)\n",
        "\n",
        "[NumPy Reference](https://docs.scipy.org/doc/numpy/reference/)\n",
        "\n",
        "[Visualization with Seaborn](https://jakevdp.github.io/PythonDataScienceHandbook/04.14-visualization-with-seaborn.html)\n"
      ]
    },
    {
      "cell_type": "markdown",
      "metadata": {
        "id": "ueY1PMBl9nOF",
        "colab_type": "text"
      },
      "source": [
        "**Import libraries**"
      ]
    },
    {
      "cell_type": "code",
      "metadata": {
        "id": "dnwk5LCx9nOG",
        "colab_type": "code",
        "colab": {}
      },
      "source": [
        "import numpy as np\n",
        "import pandas as pd\n",
        "import seaborn as sns"
      ],
      "execution_count": 0,
      "outputs": []
    },
    {
      "cell_type": "markdown",
      "metadata": {
        "id": "jiOt1hEM9nOJ",
        "colab_type": "text"
      },
      "source": [
        "**Read `Salaries.csv` as a dataframe called `sal`.**"
      ]
    },
    {
      "cell_type": "code",
      "metadata": {
        "id": "FtA68BoY9nOJ",
        "colab_type": "code",
        "colab": {}
      },
      "source": [
        "link = \"https://s3-ap-southeast-1.amazonaws.com/intro-to-ml-minhdh/Salaries.csv\"\n",
        "sal = pd.read_csv(link)"
      ],
      "execution_count": 0,
      "outputs": []
    },
    {
      "cell_type": "markdown",
      "metadata": {
        "id": "QW6hV4iv9nOM",
        "colab_type": "text"
      },
      "source": [
        "**Check the head of the DataFrame.**"
      ]
    },
    {
      "cell_type": "code",
      "metadata": {
        "id": "oa2JHHJ99nON",
        "colab_type": "code",
        "colab": {
          "base_uri": "https://localhost:8080/",
          "height": 306
        },
        "outputId": "1895a60d-6705-4927-dc91-b37f3b8fa54b"
      },
      "source": [
        "sal.head()"
      ],
      "execution_count": 3,
      "outputs": [
        {
          "output_type": "execute_result",
          "data": {
            "text/html": [
              "<div>\n",
              "<style scoped>\n",
              "    .dataframe tbody tr th:only-of-type {\n",
              "        vertical-align: middle;\n",
              "    }\n",
              "\n",
              "    .dataframe tbody tr th {\n",
              "        vertical-align: top;\n",
              "    }\n",
              "\n",
              "    .dataframe thead th {\n",
              "        text-align: right;\n",
              "    }\n",
              "</style>\n",
              "<table border=\"1\" class=\"dataframe\">\n",
              "  <thead>\n",
              "    <tr style=\"text-align: right;\">\n",
              "      <th></th>\n",
              "      <th>Id</th>\n",
              "      <th>EmployeeName</th>\n",
              "      <th>JobTitle</th>\n",
              "      <th>BasePay</th>\n",
              "      <th>OvertimePay</th>\n",
              "      <th>OtherPay</th>\n",
              "      <th>Benefits</th>\n",
              "      <th>TotalPay</th>\n",
              "      <th>TotalPayBenefits</th>\n",
              "      <th>Year</th>\n",
              "      <th>Notes</th>\n",
              "      <th>Agency</th>\n",
              "      <th>Status</th>\n",
              "    </tr>\n",
              "  </thead>\n",
              "  <tbody>\n",
              "    <tr>\n",
              "      <th>0</th>\n",
              "      <td>1</td>\n",
              "      <td>NATHANIEL FORD</td>\n",
              "      <td>GENERAL MANAGER-METROPOLITAN TRANSIT AUTHORITY</td>\n",
              "      <td>167411.18</td>\n",
              "      <td>0.00</td>\n",
              "      <td>400184.25</td>\n",
              "      <td>NaN</td>\n",
              "      <td>567595.43</td>\n",
              "      <td>567595.43</td>\n",
              "      <td>2011</td>\n",
              "      <td>NaN</td>\n",
              "      <td>San Francisco</td>\n",
              "      <td>NaN</td>\n",
              "    </tr>\n",
              "    <tr>\n",
              "      <th>1</th>\n",
              "      <td>2</td>\n",
              "      <td>GARY JIMENEZ</td>\n",
              "      <td>CAPTAIN III (POLICE DEPARTMENT)</td>\n",
              "      <td>155966.02</td>\n",
              "      <td>245131.88</td>\n",
              "      <td>137811.38</td>\n",
              "      <td>NaN</td>\n",
              "      <td>538909.28</td>\n",
              "      <td>538909.28</td>\n",
              "      <td>2011</td>\n",
              "      <td>NaN</td>\n",
              "      <td>San Francisco</td>\n",
              "      <td>NaN</td>\n",
              "    </tr>\n",
              "    <tr>\n",
              "      <th>2</th>\n",
              "      <td>3</td>\n",
              "      <td>ALBERT PARDINI</td>\n",
              "      <td>CAPTAIN III (POLICE DEPARTMENT)</td>\n",
              "      <td>212739.13</td>\n",
              "      <td>106088.18</td>\n",
              "      <td>16452.60</td>\n",
              "      <td>NaN</td>\n",
              "      <td>335279.91</td>\n",
              "      <td>335279.91</td>\n",
              "      <td>2011</td>\n",
              "      <td>NaN</td>\n",
              "      <td>San Francisco</td>\n",
              "      <td>NaN</td>\n",
              "    </tr>\n",
              "    <tr>\n",
              "      <th>3</th>\n",
              "      <td>4</td>\n",
              "      <td>CHRISTOPHER CHONG</td>\n",
              "      <td>WIRE ROPE CABLE MAINTENANCE MECHANIC</td>\n",
              "      <td>77916.00</td>\n",
              "      <td>56120.71</td>\n",
              "      <td>198306.90</td>\n",
              "      <td>NaN</td>\n",
              "      <td>332343.61</td>\n",
              "      <td>332343.61</td>\n",
              "      <td>2011</td>\n",
              "      <td>NaN</td>\n",
              "      <td>San Francisco</td>\n",
              "      <td>NaN</td>\n",
              "    </tr>\n",
              "    <tr>\n",
              "      <th>4</th>\n",
              "      <td>5</td>\n",
              "      <td>PATRICK GARDNER</td>\n",
              "      <td>DEPUTY CHIEF OF DEPARTMENT,(FIRE DEPARTMENT)</td>\n",
              "      <td>134401.60</td>\n",
              "      <td>9737.00</td>\n",
              "      <td>182234.59</td>\n",
              "      <td>NaN</td>\n",
              "      <td>326373.19</td>\n",
              "      <td>326373.19</td>\n",
              "      <td>2011</td>\n",
              "      <td>NaN</td>\n",
              "      <td>San Francisco</td>\n",
              "      <td>NaN</td>\n",
              "    </tr>\n",
              "  </tbody>\n",
              "</table>\n",
              "</div>"
            ],
            "text/plain": [
              "   Id       EmployeeName  ...         Agency  Status\n",
              "0   1     NATHANIEL FORD  ...  San Francisco     NaN\n",
              "1   2       GARY JIMENEZ  ...  San Francisco     NaN\n",
              "2   3     ALBERT PARDINI  ...  San Francisco     NaN\n",
              "3   4  CHRISTOPHER CHONG  ...  San Francisco     NaN\n",
              "4   5    PATRICK GARDNER  ...  San Francisco     NaN\n",
              "\n",
              "[5 rows x 13 columns]"
            ]
          },
          "metadata": {
            "tags": []
          },
          "execution_count": 3
        }
      ]
    },
    {
      "cell_type": "markdown",
      "metadata": {
        "id": "LgRIzJ_l9nOP",
        "colab_type": "text"
      },
      "source": [
        "**Use the .info() method to find out how many entries there are.**"
      ]
    },
    {
      "cell_type": "code",
      "metadata": {
        "id": "JuwgdTfz9nOP",
        "colab_type": "code",
        "colab": {
          "base_uri": "https://localhost:8080/",
          "height": 323
        },
        "outputId": "5c642bcb-ae41-45cf-962f-538d3d0660ae"
      },
      "source": [
        "sal.info()"
      ],
      "execution_count": 4,
      "outputs": [
        {
          "output_type": "stream",
          "text": [
            "<class 'pandas.core.frame.DataFrame'>\n",
            "RangeIndex: 148654 entries, 0 to 148653\n",
            "Data columns (total 13 columns):\n",
            "Id                  148654 non-null int64\n",
            "EmployeeName        148654 non-null object\n",
            "JobTitle            148654 non-null object\n",
            "BasePay             148045 non-null float64\n",
            "OvertimePay         148650 non-null float64\n",
            "OtherPay            148650 non-null float64\n",
            "Benefits            112491 non-null float64\n",
            "TotalPay            148654 non-null float64\n",
            "TotalPayBenefits    148654 non-null float64\n",
            "Year                148654 non-null int64\n",
            "Notes               0 non-null float64\n",
            "Agency              148654 non-null object\n",
            "Status              0 non-null float64\n",
            "dtypes: float64(8), int64(2), object(3)\n",
            "memory usage: 14.7+ MB\n"
          ],
          "name": "stdout"
        }
      ]
    },
    {
      "cell_type": "markdown",
      "metadata": {
        "id": "RgO49aNW9nOR",
        "colab_type": "text"
      },
      "source": [
        "**What is the average BasePay ?**\n",
        "\n",
        "Keyword: [mean](https://pandas.pydata.org/pandas-docs/stable/generated/pandas.DataFrame.mean.html)"
      ]
    },
    {
      "cell_type": "code",
      "metadata": {
        "id": "twQu_3xj9nOS",
        "colab_type": "code",
        "colab": {
          "base_uri": "https://localhost:8080/",
          "height": 34
        },
        "outputId": "abad38db-f3bc-417c-8076-dcbff050d916"
      },
      "source": [
        "sal.BasePay.mean()"
      ],
      "execution_count": 5,
      "outputs": [
        {
          "output_type": "execute_result",
          "data": {
            "text/plain": [
              "66325.44884050643"
            ]
          },
          "metadata": {
            "tags": []
          },
          "execution_count": 5
        }
      ]
    },
    {
      "cell_type": "markdown",
      "metadata": {
        "id": "qQc-OERD9nOU",
        "colab_type": "text"
      },
      "source": [
        "**What is the lowest and highest amount of BasePay?**\n",
        "\n",
        "Keyword: \n",
        "[min](https://pandas.pydata.org/pandas-docs/stable/generated/pandas.DataFrame.min.html) , \n",
        "[max](https://pandas.pydata.org/pandas-docs/stable/generated/pandas.DataFrame.max.html)"
      ]
    },
    {
      "cell_type": "code",
      "metadata": {
        "id": "22XKRdg49nOV",
        "colab_type": "code",
        "colab": {
          "base_uri": "https://localhost:8080/",
          "height": 34
        },
        "outputId": "66160c80-bf4a-4ee9-a4d1-04b9ceef3d82"
      },
      "source": [
        "sal.BasePay.min()"
      ],
      "execution_count": 6,
      "outputs": [
        {
          "output_type": "execute_result",
          "data": {
            "text/plain": [
              "-166.01"
            ]
          },
          "metadata": {
            "tags": []
          },
          "execution_count": 6
        }
      ]
    },
    {
      "cell_type": "code",
      "metadata": {
        "id": "R-yPM0ZU9nOX",
        "colab_type": "code",
        "colab": {
          "base_uri": "https://localhost:8080/",
          "height": 34
        },
        "outputId": "a1144609-827a-4a3c-c5c4-6c9eba390f5f"
      },
      "source": [
        "sal.BasePay.max()"
      ],
      "execution_count": 7,
      "outputs": [
        {
          "output_type": "execute_result",
          "data": {
            "text/plain": [
              "319275.01"
            ]
          },
          "metadata": {
            "tags": []
          },
          "execution_count": 7
        }
      ]
    },
    {
      "cell_type": "markdown",
      "metadata": {
        "id": "-MdkKp6U9nOa",
        "colab_type": "text"
      },
      "source": [
        "**How about OvertimePay in the dataset? What is the average, lowest, highest amount?**"
      ]
    },
    {
      "cell_type": "code",
      "metadata": {
        "id": "Og2yxCil9nOb",
        "colab_type": "code",
        "colab": {
          "base_uri": "https://localhost:8080/",
          "height": 34
        },
        "outputId": "e6cb8222-4863-47a4-998a-50ce2fbc9c67"
      },
      "source": [
        "sal.OvertimePay.mean()"
      ],
      "execution_count": 8,
      "outputs": [
        {
          "output_type": "execute_result",
          "data": {
            "text/plain": [
              "5066.059886444622"
            ]
          },
          "metadata": {
            "tags": []
          },
          "execution_count": 8
        }
      ]
    },
    {
      "cell_type": "code",
      "metadata": {
        "id": "gw7_r5kq52Nq",
        "colab_type": "code",
        "colab": {
          "base_uri": "https://localhost:8080/",
          "height": 34
        },
        "outputId": "951fbddc-b522-4b72-db01-e00bb16bcf8a"
      },
      "source": [
        "sal.OvertimePay.min()"
      ],
      "execution_count": 9,
      "outputs": [
        {
          "output_type": "execute_result",
          "data": {
            "text/plain": [
              "-0.01"
            ]
          },
          "metadata": {
            "tags": []
          },
          "execution_count": 9
        }
      ]
    },
    {
      "cell_type": "code",
      "metadata": {
        "id": "9FIASWFh52nk",
        "colab_type": "code",
        "colab": {
          "base_uri": "https://localhost:8080/",
          "height": 34
        },
        "outputId": "37953781-5248-4ae9-9c34-f680a573d665"
      },
      "source": [
        "sal.OvertimePay.max()"
      ],
      "execution_count": 10,
      "outputs": [
        {
          "output_type": "execute_result",
          "data": {
            "text/plain": [
              "245131.88"
            ]
          },
          "metadata": {
            "tags": []
          },
          "execution_count": 10
        }
      ]
    },
    {
      "cell_type": "markdown",
      "metadata": {
        "id": "mF0zrXXh9nOf",
        "colab_type": "text"
      },
      "source": [
        "**What is the job title of  JOSEPH DRISCOLL ? Note: Use all caps, otherwise you may get an answer that doesn't match up (there is also a lowercase Joseph Driscoll).**"
      ]
    },
    {
      "cell_type": "code",
      "metadata": {
        "id": "wbqO05iu9nOh",
        "colab_type": "code",
        "colab": {
          "base_uri": "https://localhost:8080/",
          "height": 51
        },
        "outputId": "d8026e10-3bf9-4184-d908-47596aa89d9b"
      },
      "source": [
        "sal[sal.EmployeeName == 'JOSEPH DRISCOLL'].JobTitle"
      ],
      "execution_count": 11,
      "outputs": [
        {
          "output_type": "execute_result",
          "data": {
            "text/plain": [
              "24    CAPTAIN, FIRE SUPPRESSION\n",
              "Name: JobTitle, dtype: object"
            ]
          },
          "metadata": {
            "tags": []
          },
          "execution_count": 11
        }
      ]
    },
    {
      "cell_type": "code",
      "metadata": {
        "id": "MwzxTlI29nOl",
        "colab_type": "code",
        "colab": {
          "base_uri": "https://localhost:8080/",
          "height": 51
        },
        "outputId": "e3a41427-0a5c-487a-dcda-210a994af146"
      },
      "source": [
        "# Now try to select Employees who have name \"GARY JIMENEZ\"\n",
        "# Your code here\n",
        "sal[sal.EmployeeName == 'GARY JIMENEZ'].JobTitle"
      ],
      "execution_count": 12,
      "outputs": [
        {
          "output_type": "execute_result",
          "data": {
            "text/plain": [
              "1    CAPTAIN III (POLICE DEPARTMENT)\n",
              "Name: JobTitle, dtype: object"
            ]
          },
          "metadata": {
            "tags": []
          },
          "execution_count": 12
        }
      ]
    },
    {
      "cell_type": "markdown",
      "metadata": {
        "id": "0nrHI4iu9nOn",
        "colab_type": "text"
      },
      "source": [
        "**How much does JOSEPH DRISCOLL make (including benefits)?**"
      ]
    },
    {
      "cell_type": "code",
      "metadata": {
        "id": "TUZlBSDE9nOo",
        "colab_type": "code",
        "colab": {
          "base_uri": "https://localhost:8080/",
          "height": 51
        },
        "outputId": "66466be7-55ed-447a-9243-5db52d1a64a0"
      },
      "source": [
        "sal[sal.EmployeeName == 'JOSEPH DRISCOLL'].TotalPayBenefits"
      ],
      "execution_count": 13,
      "outputs": [
        {
          "output_type": "execute_result",
          "data": {
            "text/plain": [
              "24    270324.91\n",
              "Name: TotalPayBenefits, dtype: float64"
            ]
          },
          "metadata": {
            "tags": []
          },
          "execution_count": 13
        }
      ]
    },
    {
      "cell_type": "markdown",
      "metadata": {
        "id": "1thjd2GC9nOq",
        "colab_type": "text"
      },
      "source": [
        "**What is the name of highest paid person (including benefits)?**"
      ]
    },
    {
      "cell_type": "code",
      "metadata": {
        "id": "msrq-7Ww9nOr",
        "colab_type": "code",
        "colab": {
          "base_uri": "https://localhost:8080/",
          "height": 51
        },
        "outputId": "72c49058-e33e-4fd0-e6d1-f127eb334ae9"
      },
      "source": [
        "sal[sal.TotalPayBenefits == sal.TotalPayBenefits.max()].EmployeeName"
      ],
      "execution_count": 14,
      "outputs": [
        {
          "output_type": "execute_result",
          "data": {
            "text/plain": [
              "0    NATHANIEL FORD\n",
              "Name: EmployeeName, dtype: object"
            ]
          },
          "metadata": {
            "tags": []
          },
          "execution_count": 14
        }
      ]
    },
    {
      "cell_type": "markdown",
      "metadata": {
        "id": "uF2kX93x9nOu",
        "colab_type": "text"
      },
      "source": [
        "**What is the name of lowest paid person (including benefits)? Do you notice something strange about how much he or she is paid?**"
      ]
    },
    {
      "cell_type": "code",
      "metadata": {
        "id": "htAfatTl9nOv",
        "colab_type": "code",
        "colab": {
          "base_uri": "https://localhost:8080/",
          "height": 51
        },
        "outputId": "a73de108-964e-4a35-c63d-bf99c253bd1e"
      },
      "source": [
        "sal[sal.TotalPayBenefits == sal.TotalPayBenefits.min()].EmployeeName"
      ],
      "execution_count": 15,
      "outputs": [
        {
          "output_type": "execute_result",
          "data": {
            "text/plain": [
              "148653    Joe Lopez\n",
              "Name: EmployeeName, dtype: object"
            ]
          },
          "metadata": {
            "tags": []
          },
          "execution_count": 15
        }
      ]
    },
    {
      "cell_type": "code",
      "metadata": {
        "id": "wzU5B-kv6xPT",
        "colab_type": "code",
        "colab": {
          "base_uri": "https://localhost:8080/",
          "height": 80
        },
        "outputId": "ec3d9181-ed8b-40be-8af7-c73192077cdd"
      },
      "source": [
        "sal[sal.TotalPayBenefits == sal.TotalPayBenefits.min()]"
      ],
      "execution_count": 16,
      "outputs": [
        {
          "output_type": "execute_result",
          "data": {
            "text/html": [
              "<div>\n",
              "<style scoped>\n",
              "    .dataframe tbody tr th:only-of-type {\n",
              "        vertical-align: middle;\n",
              "    }\n",
              "\n",
              "    .dataframe tbody tr th {\n",
              "        vertical-align: top;\n",
              "    }\n",
              "\n",
              "    .dataframe thead th {\n",
              "        text-align: right;\n",
              "    }\n",
              "</style>\n",
              "<table border=\"1\" class=\"dataframe\">\n",
              "  <thead>\n",
              "    <tr style=\"text-align: right;\">\n",
              "      <th></th>\n",
              "      <th>Id</th>\n",
              "      <th>EmployeeName</th>\n",
              "      <th>JobTitle</th>\n",
              "      <th>BasePay</th>\n",
              "      <th>OvertimePay</th>\n",
              "      <th>OtherPay</th>\n",
              "      <th>Benefits</th>\n",
              "      <th>TotalPay</th>\n",
              "      <th>TotalPayBenefits</th>\n",
              "      <th>Year</th>\n",
              "      <th>Notes</th>\n",
              "      <th>Agency</th>\n",
              "      <th>Status</th>\n",
              "    </tr>\n",
              "  </thead>\n",
              "  <tbody>\n",
              "    <tr>\n",
              "      <th>148653</th>\n",
              "      <td>148654</td>\n",
              "      <td>Joe Lopez</td>\n",
              "      <td>Counselor, Log Cabin Ranch</td>\n",
              "      <td>0.0</td>\n",
              "      <td>0.0</td>\n",
              "      <td>-618.13</td>\n",
              "      <td>0.0</td>\n",
              "      <td>-618.13</td>\n",
              "      <td>-618.13</td>\n",
              "      <td>2014</td>\n",
              "      <td>NaN</td>\n",
              "      <td>San Francisco</td>\n",
              "      <td>NaN</td>\n",
              "    </tr>\n",
              "  </tbody>\n",
              "</table>\n",
              "</div>"
            ],
            "text/plain": [
              "            Id EmployeeName  ...         Agency  Status\n",
              "148653  148654    Joe Lopez  ...  San Francisco     NaN\n",
              "\n",
              "[1 rows x 13 columns]"
            ]
          },
          "metadata": {
            "tags": []
          },
          "execution_count": 16
        }
      ]
    },
    {
      "cell_type": "markdown",
      "metadata": {
        "id": "WB0HTvjM9nOx",
        "colab_type": "text"
      },
      "source": [
        "**What was the average (mean) BasePay of all employees per year? (2011-2014) ?**\n",
        "Keyword: _groupby_"
      ]
    },
    {
      "cell_type": "code",
      "metadata": {
        "id": "6Y5mUYir9nOy",
        "colab_type": "code",
        "colab": {
          "base_uri": "https://localhost:8080/",
          "height": 119
        },
        "outputId": "9ed50d56-2e8d-41eb-b687-50ac1654a601"
      },
      "source": [
        "sal.groupby(['Year']).BasePay.mean()"
      ],
      "execution_count": 17,
      "outputs": [
        {
          "output_type": "execute_result",
          "data": {
            "text/plain": [
              "Year\n",
              "2011    63595.956517\n",
              "2012    65436.406857\n",
              "2013    69630.030216\n",
              "2014    66564.421924\n",
              "Name: BasePay, dtype: float64"
            ]
          },
          "metadata": {
            "tags": []
          },
          "execution_count": 17
        }
      ]
    },
    {
      "cell_type": "markdown",
      "metadata": {
        "id": "k8Qzx9MD9nO0",
        "colab_type": "text"
      },
      "source": [
        "**How many unique job titles are there?**\n",
        "\n",
        "Keyword: _unique, nunique_"
      ]
    },
    {
      "cell_type": "code",
      "metadata": {
        "id": "mvzwZ5Mb9nO1",
        "colab_type": "code",
        "colab": {
          "base_uri": "https://localhost:8080/",
          "height": 34
        },
        "outputId": "3696fae9-b900-44db-c420-6e1ac6c80e84"
      },
      "source": [
        "sal.JobTitle.nunique()"
      ],
      "execution_count": 18,
      "outputs": [
        {
          "output_type": "execute_result",
          "data": {
            "text/plain": [
              "2159"
            ]
          },
          "metadata": {
            "tags": []
          },
          "execution_count": 18
        }
      ]
    },
    {
      "cell_type": "markdown",
      "metadata": {
        "id": "0dkyZe-39nO4",
        "colab_type": "text"
      },
      "source": [
        "**What are the top 5 most common jobs?**\n",
        "\n",
        "Keyword: *value_counts*"
      ]
    },
    {
      "cell_type": "code",
      "metadata": {
        "id": "PVSDr3Ww9nO7",
        "colab_type": "code",
        "colab": {
          "base_uri": "https://localhost:8080/",
          "height": 119
        },
        "outputId": "2fad03e4-6116-4ffb-b5c1-6e0b314e00b4"
      },
      "source": [
        "sal.JobTitle.value_counts().nlargest(5)"
      ],
      "execution_count": 19,
      "outputs": [
        {
          "output_type": "execute_result",
          "data": {
            "text/plain": [
              "Transit Operator                7036\n",
              "Special Nurse                   4389\n",
              "Registered Nurse                3736\n",
              "Public Svc Aide-Public Works    2518\n",
              "Police Officer 3                2421\n",
              "Name: JobTitle, dtype: int64"
            ]
          },
          "metadata": {
            "tags": []
          },
          "execution_count": 19
        }
      ]
    },
    {
      "cell_type": "markdown",
      "metadata": {
        "id": "25fCX21U9nO-",
        "colab_type": "text"
      },
      "source": [
        "**How many Job Titles were represented by only one person in 2013? (e.g. Job Titles with only one occurence in 2013?)**"
      ]
    },
    {
      "cell_type": "code",
      "metadata": {
        "id": "e9vr6BKD9nPA",
        "colab_type": "code",
        "colab": {
          "base_uri": "https://localhost:8080/",
          "height": 34
        },
        "outputId": "0ff662b2-cc70-4bb5-c09f-1fdbaca8dc1e"
      },
      "source": [
        "sum(sal[sal.Year == 2013].JobTitle.value_counts() == 1)"
      ],
      "execution_count": 20,
      "outputs": [
        {
          "output_type": "execute_result",
          "data": {
            "text/plain": [
              "202"
            ]
          },
          "metadata": {
            "tags": []
          },
          "execution_count": 20
        }
      ]
    },
    {
      "cell_type": "markdown",
      "metadata": {
        "id": "HoiNghja9nPD",
        "colab_type": "text"
      },
      "source": [
        "**How many people have the word Chief in their job title?**"
      ]
    },
    {
      "cell_type": "code",
      "metadata": {
        "id": "mBc0hzan9nPE",
        "colab_type": "code",
        "colab": {
          "base_uri": "https://localhost:8080/",
          "height": 34
        },
        "outputId": "981742a6-31d4-446a-dfee-c7b29dbe9bca"
      },
      "source": [
        "count = 0\n",
        "tmp = sal['JobTitle']\n",
        "chief = 'chief'\n",
        "chiefc = 'chief,'\n",
        "for i in range(len(tmp)):\n",
        "  title = tmp[i].lower().split(' ,')\n",
        "  if chief in title or chiefc in title:\n",
        "    count += 1\n",
        "print(count)"
      ],
      "execution_count": 36,
      "outputs": [
        {
          "output_type": "stream",
          "text": [
            "627\n"
          ],
          "name": "stdout"
        }
      ]
    },
    {
      "cell_type": "code",
      "metadata": {
        "id": "u40e_Ua89nPF",
        "colab_type": "code",
        "colab": {}
      },
      "source": [
        ""
      ],
      "execution_count": 0,
      "outputs": []
    },
    {
      "cell_type": "code",
      "metadata": {
        "id": "SA7QNzVq9nPI",
        "colab_type": "code",
        "colab": {}
      },
      "source": [
        ""
      ],
      "execution_count": 0,
      "outputs": []
    },
    {
      "cell_type": "markdown",
      "metadata": {
        "id": "5G094gws9nPL",
        "colab_type": "text"
      },
      "source": [
        "## Data Visualization\n",
        "\n",
        "**Implement seaborn's countplot with x='Year'**"
      ]
    },
    {
      "cell_type": "code",
      "metadata": {
        "id": "56GKG4UD9nPM",
        "colab_type": "code",
        "colab": {
          "base_uri": "https://localhost:8080/",
          "height": 300
        },
        "outputId": "74aecdb9-2096-459a-d4b6-9411cfe1a7f5"
      },
      "source": [
        "sns.countplot(x='Year', data=sal)"
      ],
      "execution_count": 37,
      "outputs": [
        {
          "output_type": "execute_result",
          "data": {
            "text/plain": [
              "<matplotlib.axes._subplots.AxesSubplot at 0x7f8c3ea46e10>"
            ]
          },
          "metadata": {
            "tags": []
          },
          "execution_count": 37
        },
        {
          "output_type": "display_data",
          "data": {
            "image/png": "[encoded data removed]",
            "text/plain": [
              "<Figure size 432x288 with 1 Axes>"
            ]
          },
          "metadata": {
            "tags": []
          }
        }
      ]
    },
    {
      "cell_type": "markdown",
      "metadata": {
        "id": "orQACfVP9nPP",
        "colab_type": "text"
      },
      "source": [
        "**Implement seaborn's distplot for BasePay of Year 2011**"
      ]
    },
    {
      "cell_type": "code",
      "metadata": {
        "id": "JYPrrLW19nPQ",
        "colab_type": "code",
        "colab": {
          "base_uri": "https://localhost:8080/",
          "height": 300
        },
        "outputId": "21877220-5e56-4e52-f41b-19b1149774f3"
      },
      "source": [
        "sns.distplot(sal[sal.Year == 2011]['BasePay'])"
      ],
      "execution_count": 41,
      "outputs": [
        {
          "output_type": "execute_result",
          "data": {
            "text/plain": [
              "<matplotlib.axes._subplots.AxesSubplot at 0x7f8c3eae0f98>"
            ]
          },
          "metadata": {
            "tags": []
          },
          "execution_count": 41
        },
        {
          "output_type": "display_data",
          "data": {
            "image/png": "[encoded data removed]",
            "text/plain": [
              "<Figure size 432x288 with 1 Axes>"
            ]
          },
          "metadata": {
            "tags": []
          }
        }
      ]
    },
    {
      "cell_type": "markdown",
      "metadata": {
        "id": "Ea9OFiqK9nPS",
        "colab_type": "text"
      },
      "source": [
        "**How about other Year**"
      ]
    },
    {
      "cell_type": "code",
      "metadata": {
        "id": "orRMn0X89nPT",
        "colab_type": "code",
        "colab": {
          "base_uri": "https://localhost:8080/",
          "height": 890
        },
        "outputId": "93afc9b3-c42f-4294-9493-475f5d1946f7"
      },
      "source": [
        "year = sal.Year.unique()\n",
        "\n",
        "g = sns.FacetGrid(sal, row=\"Year\", row_order=year, height=3, aspect=4,)\n",
        "g.map(sns.distplot, \"BasePay\")"
      ],
      "execution_count": 66,
      "outputs": [
        {
          "output_type": "execute_result",
          "data": {
            "text/plain": [
              "<seaborn.axisgrid.FacetGrid at 0x7f8c3b7eacf8>"
            ]
          },
          "metadata": {
            "tags": []
          },
          "execution_count": 66
        },
        {
          "output_type": "display_data",
          "data": {
            "image/png": "[encoded data removed]",
            "text/plain": [
              "<Figure size 864x864 with 4 Axes>"
            ]
          },
          "metadata": {
            "tags": []
          }
        }
      ]
    },
    {
      "cell_type": "markdown",
      "metadata": {
        "id": "00EkkG_s9nPV",
        "colab_type": "text"
      },
      "source": [
        "## Bonus\n",
        "\n",
        "**Visualize top 5 Jobs with BasePay, Benefits and OvertimePay**\n",
        "\n",
        "Keyword: *index, isin, groupby, mean, plot*"
      ]
    },
    {
      "cell_type": "code",
      "metadata": {
        "id": "N1hZt7UDkn7a",
        "colab_type": "code",
        "colab": {
          "base_uri": "https://localhost:8080/",
          "height": 552
        },
        "outputId": "97667313-c855-45a4-b099-aeeff2fc4638"
      },
      "source": [
        "top5 = sal['JobTitle'].value_counts().nlargest(5).index.tolist()\n",
        "sal_top5 = sal[sal['JobTitle'].isin(top5)].groupby('JobTitle').mean()\n",
        "print(sal_top5[['BasePay', 'Benefits', 'OvertimePay']])\n",
        "sal_top5[['BasePay', 'Benefits', 'OvertimePay']].plot(kind='bar')"
      ],
      "execution_count": 158,
      "outputs": [
        {
          "output_type": "stream",
          "text": [
            "                                    BasePay      Benefits   OvertimePay\n",
            "JobTitle                                                               \n",
            "Police Officer 3              108508.662621  32829.713693  16418.062615\n",
            "Public Svc Aide-Public Works    8091.876070   1379.748050     60.017744\n",
            "Registered Nurse              102650.396486  35950.834170   4204.840575\n",
            "Special Nurse                  29929.166718   3210.342240    651.723372\n",
            "Transit Operator               51772.154465  27355.597533  11143.260866\n"
          ],
          "name": "stdout"
        },
        {
          "output_type": "execute_result",
          "data": {
            "text/plain": [
              "<matplotlib.axes._subplots.AxesSubplot at 0x7f8c39074198>"
            ]
          },
          "metadata": {
            "tags": []
          },
          "execution_count": 158
        },
        {
          "output_type": "display_data",
          "data": {
            "image/png": "[encoded data removed]",
            "text/plain": [
              "<Figure size 432x288 with 1 Axes>"
            ]
          },
          "metadata": {
            "tags": []
          }
        }
      ]
    },
    {
      "cell_type": "code",
      "metadata": {
        "id": "C-nKGOA-9nPY",
        "colab_type": "code",
        "outputId": "a4a94735-1f45-4d7c-dc75-3606cfd52969",
        "colab": {}
      },
      "source": [
        ""
      ],
      "execution_count": 0,
      "outputs": [
        {
          "output_type": "execute_result",
          "data": {
            "text/html": [
              "<div>\n",
              "<style scoped>\n",
              "    .dataframe tbody tr th:only-of-type {\n",
              "        vertical-align: middle;\n",
              "    }\n",
              "\n",
              "    .dataframe tbody tr th {\n",
              "        vertical-align: top;\n",
              "    }\n",
              "\n",
              "    .dataframe thead th {\n",
              "        text-align: right;\n",
              "    }\n",
              "</style>\n",
              "<table border=\"1\" class=\"dataframe\">\n",
              "  <thead>\n",
              "    <tr style=\"text-align: right;\">\n",
              "      <th></th>\n",
              "      <th>BasePay</th>\n",
              "      <th>Benefits</th>\n",
              "      <th>OvertimePay</th>\n",
              "    </tr>\n",
              "    <tr>\n",
              "      <th>JobTitle</th>\n",
              "      <th></th>\n",
              "      <th></th>\n",
              "      <th></th>\n",
              "    </tr>\n",
              "  </thead>\n",
              "  <tbody>\n",
              "    <tr>\n",
              "      <th>Police Officer 3</th>\n",
              "      <td>108508.662621</td>\n",
              "      <td>32829.713693</td>\n",
              "      <td>16418.062615</td>\n",
              "    </tr>\n",
              "    <tr>\n",
              "      <th>Public Svc Aide-Public Works</th>\n",
              "      <td>8091.876070</td>\n",
              "      <td>1379.748050</td>\n",
              "      <td>60.017744</td>\n",
              "    </tr>\n",
              "    <tr>\n",
              "      <th>Registered Nurse</th>\n",
              "      <td>102650.396486</td>\n",
              "      <td>35950.834170</td>\n",
              "      <td>4204.840575</td>\n",
              "    </tr>\n",
              "    <tr>\n",
              "      <th>Special Nurse</th>\n",
              "      <td>29929.166718</td>\n",
              "      <td>3210.342240</td>\n",
              "      <td>651.723372</td>\n",
              "    </tr>\n",
              "    <tr>\n",
              "      <th>Transit Operator</th>\n",
              "      <td>51772.154465</td>\n",
              "      <td>27355.597533</td>\n",
              "      <td>11143.260866</td>\n",
              "    </tr>\n",
              "  </tbody>\n",
              "</table>\n",
              "</div>"
            ],
            "text/plain": [
              "                                    BasePay      Benefits   OvertimePay\n",
              "JobTitle                                                               \n",
              "Police Officer 3              108508.662621  32829.713693  16418.062615\n",
              "Public Svc Aide-Public Works    8091.876070   1379.748050     60.017744\n",
              "Registered Nurse              102650.396486  35950.834170   4204.840575\n",
              "Special Nurse                  29929.166718   3210.342240    651.723372\n",
              "Transit Operator               51772.154465  27355.597533  11143.260866"
            ]
          },
          "metadata": {
            "tags": []
          },
          "execution_count": 8
        }
      ]
    },
    {
      "cell_type": "markdown",
      "metadata": {
        "id": "V2Lz3SGu9nPc",
        "colab_type": "text"
      },
      "source": [
        "**Fun Fact: Is there a correlation between length of the Job Title string and Salary?**\n",
        "\n",
        "*Hint: corr()*"
      ]
    },
    {
      "cell_type": "code",
      "metadata": {
        "id": "CgcrtPdJ9nPd",
        "colab_type": "code",
        "colab": {
          "base_uri": "https://localhost:8080/",
          "height": 34
        },
        "outputId": "31d3852a-b283-4b76-af7a-0683dd1a12ff"
      },
      "source": [
        "sal['TotalPayBenefits'].corr(sal['JobTitle'].apply(len))"
      ],
      "execution_count": 160,
      "outputs": [
        {
          "output_type": "execute_result",
          "data": {
            "text/plain": [
              "-0.036878445932606675"
            ]
          },
          "metadata": {
            "tags": []
          },
          "execution_count": 160
        }
      ]
    },
    {
      "cell_type": "code",
      "metadata": {
        "id": "G8SQ0NhI9nPe",
        "colab_type": "code",
        "colab": {}
      },
      "source": [
        ""
      ],
      "execution_count": 0,
      "outputs": []
    },
    {
      "cell_type": "markdown",
      "metadata": {
        "id": "gY4kMupD9nPg",
        "colab_type": "text"
      },
      "source": [
        "# Great Job!"
      ]
    }
  ]
}
